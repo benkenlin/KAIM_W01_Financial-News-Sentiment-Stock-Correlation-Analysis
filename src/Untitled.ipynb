{
 "cells": [
  {
   "cell_type": "code",
   "execution_count": 1,
   "id": "2f1e75b3",
   "metadata": {},
   "outputs": [
    {
     "ename": "ModuleNotFoundError",
     "evalue": "No module named 'talib'",
     "output_type": "error",
     "traceback": [
      "\u001b[1;31m---------------------------------------------------------------------------\u001b[0m",
      "\u001b[1;31mModuleNotFoundError\u001b[0m                       Traceback (most recent call last)",
      "Cell \u001b[1;32mIn[1], line 4\u001b[0m\n\u001b[0;32m      2\u001b[0m \u001b[38;5;28;01mimport\u001b[39;00m \u001b[38;5;21;01mnumpy\u001b[39;00m \u001b[38;5;28;01mas\u001b[39;00m \u001b[38;5;21;01mnp\u001b[39;00m\n\u001b[0;32m      3\u001b[0m \u001b[38;5;28;01mimport\u001b[39;00m \u001b[38;5;21;01mmatplotlib\u001b[39;00m\u001b[38;5;21;01m.\u001b[39;00m\u001b[38;5;21;01mpyplot\u001b[39;00m \u001b[38;5;28;01mas\u001b[39;00m \u001b[38;5;21;01mplt\u001b[39;00m\n\u001b[1;32m----> 4\u001b[0m \u001b[38;5;28;01mimport\u001b[39;00m \u001b[38;5;21;01mtalib\u001b[39;00m\n\u001b[0;32m      5\u001b[0m \u001b[38;5;28;01mimport\u001b[39;00m \u001b[38;5;21;01mpynance\u001b[39;00m \u001b[38;5;28;01mas\u001b[39;00m \u001b[38;5;21;01mpn\u001b[39;00m\n\u001b[0;32m      6\u001b[0m \u001b[38;5;28;01mimport\u001b[39;00m \u001b[38;5;21;01mglob\u001b[39;00m\n",
      "\u001b[1;31mModuleNotFoundError\u001b[0m: No module named 'talib'"
     ]
    }
   ],
   "source": [
    "import pandas as pd\n",
    "import numpy as np\n",
    "import matplotlib.pyplot as plt\n",
    "import talib\n",
    "import pynance as pn\n",
    "import glob\n",
    "import os"
   ]
  },
  {
   "cell_type": "code",
   "execution_count": 3,
   "id": "33247177",
   "metadata": {},
   "outputs": [
    {
     "name": "stdout",
     "output_type": "stream",
     "text": [
      "Collecting ta-lib\n",
      "  Using cached ta_lib-0.6.3.tar.gz (376 kB)\n",
      "  Installing build dependencies: started\n",
      "  Installing build dependencies: finished with status 'done'\n",
      "  Getting requirements to build wheel: started\n",
      "  Getting requirements to build wheel: finished with status 'done'\n",
      "  Installing backend dependencies: started\n",
      "  Installing backend dependencies: finished with status 'done'\n",
      "  Preparing metadata (pyproject.toml): started\n",
      "  Preparing metadata (pyproject.toml): finished with status 'done'\n",
      "Requirement already satisfied: setuptools in c:\\users\\benke\\anaconda3\\lib\\site-packages (from ta-lib) (68.0.0)\n",
      "Requirement already satisfied: numpy in c:\\users\\benke\\anaconda3\\lib\\site-packages (from ta-lib) (1.24.3)\n",
      "Building wheels for collected packages: ta-lib\n",
      "  Building wheel for ta-lib (pyproject.toml): started\n",
      "  Building wheel for ta-lib (pyproject.toml): finished with status 'error'\n",
      "Failed to build ta-lib\n",
      "Note: you may need to restart the kernel to use updated packages.\n"
     ]
    },
    {
     "name": "stderr",
     "output_type": "stream",
     "text": [
      "  error: subprocess-exited-with-error\n",
      "  \n",
      "  Building wheel for ta-lib (pyproject.toml) did not run successfully.\n",
      "  exit code: 1\n",
      "  \n",
      "  [58 lines of output]\n",
      "  <string>:83: UserWarning: Cannot find ta-lib library, installation may fail.\n",
      "  C:\\Users\\benke\\AppData\\Local\\Temp\\pip-build-env-ucj7nklr\\overlay\\Lib\\site-packages\\setuptools\\config\\_apply_pyprojecttoml.py:82: SetuptoolsWarning: `install_requires` overwritten in `pyproject.toml` (dependencies)\n",
      "    corresp(dist, value, root_dir)\n",
      "  C:\\Users\\benke\\AppData\\Local\\Temp\\pip-build-env-ucj7nklr\\overlay\\Lib\\site-packages\\setuptools\\config\\_apply_pyprojecttoml.py:61: SetuptoolsDeprecationWarning: License classifiers are deprecated.\n",
      "  !!\n",
      "  \n",
      "          ********************************************************************************\n",
      "          Please consider removing the following classifiers in favor of a SPDX license expression:\n",
      "  \n",
      "          License :: OSI Approved :: BSD License\n",
      "  \n",
      "          See https://packaging.python.org/en/latest/guides/writing-pyproject-toml/#license for details.\n",
      "          ********************************************************************************\n",
      "  \n",
      "  !!\n",
      "    dist._finalize_license_expression()\n",
      "  C:\\Users\\benke\\AppData\\Local\\Temp\\pip-build-env-ucj7nklr\\overlay\\Lib\\site-packages\\setuptools\\dist.py:759: SetuptoolsDeprecationWarning: License classifiers are deprecated.\n",
      "  !!\n",
      "  \n",
      "          ********************************************************************************\n",
      "          Please consider removing the following classifiers in favor of a SPDX license expression:\n",
      "  \n",
      "          License :: OSI Approved :: BSD License\n",
      "  \n",
      "          See https://packaging.python.org/en/latest/guides/writing-pyproject-toml/#license for details.\n",
      "          ********************************************************************************\n",
      "  \n",
      "  !!\n",
      "    self._finalize_license_expression()\n",
      "  running bdist_wheel\n",
      "  running build\n",
      "  running build_py\n",
      "  creating build\\lib.win-amd64-cpython-311\\talib\n",
      "  copying talib\\abstract.py -> build\\lib.win-amd64-cpython-311\\talib\n",
      "  copying talib\\deprecated.py -> build\\lib.win-amd64-cpython-311\\talib\n",
      "  copying talib\\stream.py -> build\\lib.win-amd64-cpython-311\\talib\n",
      "  copying talib\\__init__.py -> build\\lib.win-amd64-cpython-311\\talib\n",
      "  running egg_info\n",
      "  writing ta_lib.egg-info\\PKG-INFO\n",
      "  writing dependency_links to ta_lib.egg-info\\dependency_links.txt\n",
      "  writing requirements to ta_lib.egg-info\\requires.txt\n",
      "  writing top-level names to ta_lib.egg-info\\top_level.txt\n",
      "  reading manifest file 'ta_lib.egg-info\\SOURCES.txt'\n",
      "  reading manifest template 'MANIFEST.in'\n",
      "  adding license file 'LICENSE'\n",
      "  adding license file 'AUTHORS'\n",
      "  writing manifest file 'ta_lib.egg-info\\SOURCES.txt'\n",
      "  copying talib\\_abstract.pxi -> build\\lib.win-amd64-cpython-311\\talib\n",
      "  copying talib\\_common.pxi -> build\\lib.win-amd64-cpython-311\\talib\n",
      "  copying talib\\_func.pxi -> build\\lib.win-amd64-cpython-311\\talib\n",
      "  copying talib\\_stream.pxi -> build\\lib.win-amd64-cpython-311\\talib\n",
      "  copying talib\\_ta_lib.c -> build\\lib.win-amd64-cpython-311\\talib\n",
      "  copying talib\\_ta_lib.pyi -> build\\lib.win-amd64-cpython-311\\talib\n",
      "  copying talib\\_ta_lib.pyx -> build\\lib.win-amd64-cpython-311\\talib\n",
      "  copying talib\\py.typed -> build\\lib.win-amd64-cpython-311\\talib\n",
      "  running build_ext\n",
      "  building 'talib._ta_lib' extension\n",
      "  error: Microsoft Visual C++ 14.0 or greater is required. Get it with \"Microsoft C++ Build Tools\": https://visualstudio.microsoft.com/visual-cpp-build-tools/\n",
      "  [end of output]\n",
      "  \n",
      "  note: This error originates from a subprocess, and is likely not a problem with pip.\n",
      "  ERROR: Failed building wheel for ta-lib\n",
      "ERROR: Could not build wheels for ta-lib, which is required to install pyproject.toml-based projects\n"
     ]
    }
   ],
   "source": [
    "pip install ta-lib"
   ]
  },
  {
   "cell_type": "code",
   "execution_count": null,
   "id": "d1bc4614",
   "metadata": {},
   "outputs": [],
   "source": []
  }
 ],
 "metadata": {
  "kernelspec": {
   "display_name": "Python 3 (ipykernel)",
   "language": "python",
   "name": "python3"
  },
  "language_info": {
   "codemirror_mode": {
    "name": "ipython",
    "version": 3
   },
   "file_extension": ".py",
   "mimetype": "text/x-python",
   "name": "python",
   "nbconvert_exporter": "python",
   "pygments_lexer": "ipython3",
   "version": "3.11.5"
  }
 },
 "nbformat": 4,
 "nbformat_minor": 5
}

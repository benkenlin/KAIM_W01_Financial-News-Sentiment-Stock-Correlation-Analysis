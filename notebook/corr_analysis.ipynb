{
 "cells": [
  {
   "cell_type": "code",
   "execution_count": 5,
   "id": "3f74a723",
   "metadata": {
    "scrolled": true
   },
   "outputs": [
    {
     "name": "stdout",
     "output_type": "stream",
     "text": [
      "Note: you may need to restart the kernel to use updated packages.\n",
      "Collecting TA-Lib\n",
      "  Using cached ta_lib-0.6.3.tar.gz (376 kB)\n",
      "  Installing build dependencies: started\n",
      "  Installing build dependencies: still running...\n",
      "  Installing build dependencies: finished with status 'done'\n",
      "  Getting requirements to build wheel: started\n",
      "  Getting requirements to build wheel: finished with status 'done'\n",
      "  Installing backend dependencies: started\n",
      "  Installing backend dependencies: finished with status 'done'\n",
      "  Preparing metadata (pyproject.toml): started\n",
      "  Preparing metadata (pyproject.toml): finished with status 'done'\n",
      "Requirement already satisfied: setuptools in c:\\users\\benke\\anaconda3\\lib\\site-packages (from TA-Lib) (68.0.0)\n",
      "Requirement already satisfied: numpy in c:\\users\\benke\\anaconda3\\lib\\site-packages (from TA-Lib) (1.24.3)\n",
      "Building wheels for collected packages: TA-Lib\n",
      "  Building wheel for TA-Lib (pyproject.toml): started\n",
      "  Building wheel for TA-Lib (pyproject.toml): still running...\n",
      "  Building wheel for TA-Lib (pyproject.toml): finished with status 'done'\n",
      "  Created wheel for TA-Lib: filename=ta_lib-0.6.3-cp311-cp311-win_amd64.whl size=899219 sha256=90d918db4921c2c0b63bf1e840f5fdf0e8ec3ae7b3692934407e675c727e42ee\n",
      "  Stored in directory: c:\\users\\benke\\appdata\\local\\pip\\cache\\wheels\\8d\\95\\53\\5eea57e7eabad39afdbbb4adea6dc3e412a73b49d5fd619644\n",
      "Successfully built TA-Lib\n",
      "Installing collected packages: TA-Lib\n",
      "Successfully installed TA-Lib-0.6.3\n"
     ]
    }
   ],
   "source": [
    "pip install TA-Lib"
   ]
  },
  {
   "cell_type": "code",
   "execution_count": 3,
   "id": "b859b896",
   "metadata": {},
   "outputs": [
    {
     "ename": "ModuleNotFoundError",
     "evalue": "No module named 'talib'",
     "output_type": "error",
     "traceback": [
      "\u001b[1;31m---------------------------------------------------------------------------\u001b[0m",
      "\u001b[1;31mModuleNotFoundError\u001b[0m                       Traceback (most recent call last)",
      "Cell \u001b[1;32mIn[3], line 2\u001b[0m\n\u001b[0;32m      1\u001b[0m \u001b[38;5;28;01mimport\u001b[39;00m \u001b[38;5;21;01mpandas\u001b[39;00m \u001b[38;5;28;01mas\u001b[39;00m \u001b[38;5;21;01mpd\u001b[39;00m\n\u001b[1;32m----> 2\u001b[0m \u001b[38;5;28;01mimport\u001b[39;00m \u001b[38;5;21;01mtalib\u001b[39;00m\n\u001b[0;32m      3\u001b[0m \u001b[38;5;28;01mimport\u001b[39;00m \u001b[38;5;21;01mmatplotlib\u001b[39;00m\u001b[38;5;21;01m.\u001b[39;00m\u001b[38;5;21;01mpyplot\u001b[39;00m \u001b[38;5;28;01mas\u001b[39;00m \u001b[38;5;21;01mplt\u001b[39;00m\n\u001b[0;32m      4\u001b[0m \u001b[38;5;28;01mimport\u001b[39;00m \u001b[38;5;21;01mseaborn\u001b[39;00m \u001b[38;5;28;01mas\u001b[39;00m \u001b[38;5;21;01msns\u001b[39;00m\n",
      "\u001b[1;31mModuleNotFoundError\u001b[0m: No module named 'talib'"
     ]
    }
   ],
   "source": [
    "import pandas as pd\n",
    "import talib\n",
    "import matplotlib.pyplot as plt\n",
    "import seaborn as sns\n",
    "import pynance as pn"
   ]
  },
  {
   "cell_type": "code",
   "execution_count": 13,
   "id": "d5e576d3",
   "metadata": {},
   "outputs": [],
   "source": [
    "df_pub=pd.read_csv('../data/cleaned_analyst_ratings.csv')\n",
    "df_stock=pd.read_csv('../data/yfinance_data/AAPL_historical_data.csv')"
   ]
  },
  {
   "cell_type": "code",
   "execution_count": 14,
   "id": "b9ecfea8",
   "metadata": {},
   "outputs": [],
   "source": [
    "df_stock['Date'] = pd.to_datetime(df_stock['Date'])"
   ]
  },
  {
   "cell_type": "code",
   "execution_count": 15,
   "id": "1d60202a",
   "metadata": {},
   "outputs": [
    {
     "name": "stdout",
     "output_type": "stream",
     "text": [
      "        Date      Open      High       Low     Close  Adj Close     Volume  \\\n",
      "0 1980-12-12  0.128348  0.128906  0.128348  0.128348   0.098943  469033600   \n",
      "1 1980-12-15  0.122210  0.122210  0.121652  0.121652   0.093781  175884800   \n",
      "2 1980-12-16  0.113281  0.113281  0.112723  0.112723   0.086898  105728000   \n",
      "3 1980-12-17  0.115513  0.116071  0.115513  0.115513   0.089049   86441600   \n",
      "4 1980-12-18  0.118862  0.119420  0.118862  0.118862   0.091630   73449600   \n",
      "\n",
      "   Dividends  Stock Splits  \n",
      "0        0.0           0.0  \n",
      "1        0.0           0.0  \n",
      "2        0.0           0.0  \n",
      "3        0.0           0.0  \n",
      "4        0.0           0.0  \n"
     ]
    }
   ],
   "source": [
    "print(df_stock.head())"
   ]
  },
  {
   "cell_type": "code",
   "execution_count": 16,
   "id": "51ec7f9a",
   "metadata": {},
   "outputs": [
    {
     "name": "stdout",
     "output_type": "stream",
     "text": [
      "<class 'pandas.core.frame.DataFrame'>\n",
      "RangeIndex: 10998 entries, 0 to 10997\n",
      "Data columns (total 9 columns):\n",
      " #   Column        Non-Null Count  Dtype         \n",
      "---  ------        --------------  -----         \n",
      " 0   Date          10998 non-null  datetime64[ns]\n",
      " 1   Open          10998 non-null  float64       \n",
      " 2   High          10998 non-null  float64       \n",
      " 3   Low           10998 non-null  float64       \n",
      " 4   Close         10998 non-null  float64       \n",
      " 5   Adj Close     10998 non-null  float64       \n",
      " 6   Volume        10998 non-null  int64         \n",
      " 7   Dividends     10998 non-null  float64       \n",
      " 8   Stock Splits  10998 non-null  float64       \n",
      "dtypes: datetime64[ns](1), float64(7), int64(1)\n",
      "memory usage: 773.4 KB\n",
      "None\n"
     ]
    }
   ],
   "source": [
    "print(df_stock.info())"
   ]
  },
  {
   "cell_type": "code",
   "execution_count": 17,
   "id": "80287875",
   "metadata": {},
   "outputs": [
    {
     "name": "stdout",
     "output_type": "stream",
     "text": [
      "                                Date          Open          High  \\\n",
      "count                          10998  10998.000000  10998.000000   \n",
      "mean   2002-09-26 14:14:28.085106304     22.299160     22.539055   \n",
      "min              1980-12-12 00:00:00      0.049665      0.049665   \n",
      "25%              1991-10-28 06:00:00      0.299107      0.303710   \n",
      "50%              2002-09-23 12:00:00      0.531250      0.537946   \n",
      "75%              2013-08-25 06:00:00     20.204196     20.389554   \n",
      "max              2024-07-30 00:00:00    236.479996    237.229996   \n",
      "std                              NaN     46.003685     46.496031   \n",
      "\n",
      "                Low         Close     Adj Close        Volume     Dividends  \\\n",
      "count  10998.000000  10998.000000  10998.000000  1.099800e+04  10998.000000   \n",
      "mean      22.068367     22.312754     21.494496  3.180806e+08      0.000752   \n",
      "min        0.049107      0.049107      0.037857  0.000000e+00      0.000000   \n",
      "25%        0.290179      0.298549      0.241840  1.132545e+08      0.000000   \n",
      "50%        0.522321      0.531250      0.432079  2.057412e+08      0.000000   \n",
      "75%       19.998036     20.196160     17.253029  3.985275e+08      0.000000   \n",
      "max      233.089996    234.820007    234.548523  7.421641e+09      0.250000   \n",
      "std       45.540929     46.037660     45.561916  3.354523e+08      0.011753   \n",
      "\n",
      "       Stock Splits  \n",
      "count  10998.000000  \n",
      "mean       0.001546  \n",
      "min        0.000000  \n",
      "25%        0.000000  \n",
      "50%        0.000000  \n",
      "75%        0.000000  \n",
      "max        7.000000  \n",
      "std        0.083663  \n"
     ]
    }
   ],
   "source": [
    "print(df_stock.describe(include='all'))"
   ]
  },
  {
   "cell_type": "code",
   "execution_count": 18,
   "id": "6b813875",
   "metadata": {},
   "outputs": [
    {
     "name": "stdout",
     "output_type": "stream",
     "text": [
      "Date            0\n",
      "Open            0\n",
      "High            0\n",
      "Low             0\n",
      "Close           0\n",
      "Adj Close       0\n",
      "Volume          0\n",
      "Dividends       0\n",
      "Stock Splits    0\n",
      "dtype: int64\n"
     ]
    }
   ],
   "source": [
    "print(df_stock.isnull().sum())"
   ]
  },
  {
   "cell_type": "code",
   "execution_count": 19,
   "id": "03c5570d",
   "metadata": {},
   "outputs": [
    {
     "name": "stdout",
     "output_type": "stream",
     "text": [
      "0\n"
     ]
    }
   ],
   "source": [
    "print(df_stock.duplicated().sum())"
   ]
  },
  {
   "cell_type": "code",
   "execution_count": 20,
   "id": "c7e824ec",
   "metadata": {},
   "outputs": [
    {
     "ename": "NameError",
     "evalue": "name 'talib' is not defined",
     "output_type": "error",
     "traceback": [
      "\u001b[1;31m---------------------------------------------------------------------------\u001b[0m",
      "\u001b[1;31mNameError\u001b[0m                                 Traceback (most recent call last)",
      "Cell \u001b[1;32mIn[20], line 2\u001b[0m\n\u001b[0;32m      1\u001b[0m \u001b[38;5;66;03m# Calculate Simple Moving Average (SMA)\u001b[39;00m\n\u001b[1;32m----> 2\u001b[0m df_stock[\u001b[38;5;124m'\u001b[39m\u001b[38;5;124mSMA_10\u001b[39m\u001b[38;5;124m'\u001b[39m] \u001b[38;5;241m=\u001b[39m talib\u001b[38;5;241m.\u001b[39mSMA(df_stock[\u001b[38;5;124m'\u001b[39m\u001b[38;5;124mClose\u001b[39m\u001b[38;5;124m'\u001b[39m], timeperiod\u001b[38;5;241m=\u001b[39m\u001b[38;5;241m10\u001b[39m)\n\u001b[0;32m      3\u001b[0m df_stock[\u001b[38;5;124m'\u001b[39m\u001b[38;5;124mSMA_50\u001b[39m\u001b[38;5;124m'\u001b[39m] \u001b[38;5;241m=\u001b[39m talib\u001b[38;5;241m.\u001b[39mSMA(df_stock[\u001b[38;5;124m'\u001b[39m\u001b[38;5;124mClose\u001b[39m\u001b[38;5;124m'\u001b[39m], timeperiod\u001b[38;5;241m=\u001b[39m\u001b[38;5;241m50\u001b[39m)\n\u001b[0;32m      5\u001b[0m \u001b[38;5;66;03m# Calculate Exponential Moving Average (EMA)\u001b[39;00m\n",
      "\u001b[1;31mNameError\u001b[0m: name 'talib' is not defined"
     ]
    }
   ],
   "source": [
    "# Calculate Simple Moving Average (SMA)\n",
    "df_stock['SMA_10'] = talib.SMA(df_stock['Close'], timeperiod=10)\n",
    "df_stock['SMA_50'] = talib.SMA(df_stock['Close'], timeperiod=50)\n",
    "\n",
    "# Calculate Exponential Moving Average (EMA)\n",
    "df_stock['EMA_10'] = talib.EMA(df_stock['Close'], timeperiod=10)"
   ]
  },
  {
   "cell_type": "code",
   "execution_count": 21,
   "id": "5fad6b3b",
   "metadata": {},
   "outputs": [
    {
     "ename": "NameError",
     "evalue": "name 'talib' is not defined",
     "output_type": "error",
     "traceback": [
      "\u001b[1;31m---------------------------------------------------------------------------\u001b[0m",
      "\u001b[1;31mNameError\u001b[0m                                 Traceback (most recent call last)",
      "Cell \u001b[1;32mIn[21], line 2\u001b[0m\n\u001b[0;32m      1\u001b[0m \u001b[38;5;66;03m# Calculate Relative Strength Index (RSI)\u001b[39;00m\n\u001b[1;32m----> 2\u001b[0m df_stock[\u001b[38;5;124m'\u001b[39m\u001b[38;5;124mRSI\u001b[39m\u001b[38;5;124m'\u001b[39m] \u001b[38;5;241m=\u001b[39m talib\u001b[38;5;241m.\u001b[39mRSI(df_stock[\u001b[38;5;124m'\u001b[39m\u001b[38;5;124mClose\u001b[39m\u001b[38;5;124m'\u001b[39m], timeperiod\u001b[38;5;241m=\u001b[39m\u001b[38;5;241m14\u001b[39m)\n",
      "\u001b[1;31mNameError\u001b[0m: name 'talib' is not defined"
     ]
    }
   ],
   "source": [
    "# Calculate Relative Strength Index (RSI)\n",
    "df_stock['RSI'] = talib.RSI(df_stock['Close'], timeperiod=14)"
   ]
  },
  {
   "cell_type": "code",
   "execution_count": 22,
   "id": "c17276d6",
   "metadata": {},
   "outputs": [
    {
     "ename": "NameError",
     "evalue": "name 'talib' is not defined",
     "output_type": "error",
     "traceback": [
      "\u001b[1;31m---------------------------------------------------------------------------\u001b[0m",
      "\u001b[1;31mNameError\u001b[0m                                 Traceback (most recent call last)",
      "Cell \u001b[1;32mIn[22], line 2\u001b[0m\n\u001b[0;32m      1\u001b[0m \u001b[38;5;66;03m# Calculate MACD\u001b[39;00m\n\u001b[1;32m----> 2\u001b[0m df_stock[\u001b[38;5;124m'\u001b[39m\u001b[38;5;124mMACD\u001b[39m\u001b[38;5;124m'\u001b[39m], df_stock[\u001b[38;5;124m'\u001b[39m\u001b[38;5;124mMACD_signal\u001b[39m\u001b[38;5;124m'\u001b[39m], df_stock[\u001b[38;5;124m'\u001b[39m\u001b[38;5;124mMACD_hist\u001b[39m\u001b[38;5;124m'\u001b[39m] \u001b[38;5;241m=\u001b[39m talib\u001b[38;5;241m.\u001b[39mMACD(\n\u001b[0;32m      3\u001b[0m     df_stock[\u001b[38;5;124m'\u001b[39m\u001b[38;5;124mClose\u001b[39m\u001b[38;5;124m'\u001b[39m], fastperiod\u001b[38;5;241m=\u001b[39m\u001b[38;5;241m12\u001b[39m, slowperiod\u001b[38;5;241m=\u001b[39m\u001b[38;5;241m26\u001b[39m, signalperiod\u001b[38;5;241m=\u001b[39m\u001b[38;5;241m9\u001b[39m\n\u001b[0;32m      4\u001b[0m )\n",
      "\u001b[1;31mNameError\u001b[0m: name 'talib' is not defined"
     ]
    }
   ],
   "source": [
    "# Calculate MACD\n",
    "df_stock['MACD'], df_stock['MACD_signal'], df_stock['MACD_hist'] = talib.MACD(\n",
    "    df_stock['Close'], fastperiod=12, slowperiod=26, signalperiod=9\n",
    ")"
   ]
  },
  {
   "cell_type": "code",
   "execution_count": 23,
   "id": "bb5ed870",
   "metadata": {},
   "outputs": [
    {
     "ename": "NameError",
     "evalue": "name 'talib' is not defined",
     "output_type": "error",
     "traceback": [
      "\u001b[1;31m---------------------------------------------------------------------------\u001b[0m",
      "\u001b[1;31mNameError\u001b[0m                                 Traceback (most recent call last)",
      "Cell \u001b[1;32mIn[23], line 2\u001b[0m\n\u001b[0;32m      1\u001b[0m \u001b[38;5;66;03m# Calculate Bollinger Bands\u001b[39;00m\n\u001b[1;32m----> 2\u001b[0m df_stock[\u001b[38;5;124m'\u001b[39m\u001b[38;5;124mupper_band\u001b[39m\u001b[38;5;124m'\u001b[39m], df_stock[\u001b[38;5;124m'\u001b[39m\u001b[38;5;124mmiddle_band\u001b[39m\u001b[38;5;124m'\u001b[39m], df_stock[\u001b[38;5;124m'\u001b[39m\u001b[38;5;124mlower_band\u001b[39m\u001b[38;5;124m'\u001b[39m] \u001b[38;5;241m=\u001b[39m talib\u001b[38;5;241m.\u001b[39mBBANDS(\n\u001b[0;32m      3\u001b[0m     df_stock[\u001b[38;5;124m'\u001b[39m\u001b[38;5;124mClose\u001b[39m\u001b[38;5;124m'\u001b[39m], timeperiod\u001b[38;5;241m=\u001b[39m\u001b[38;5;241m20\u001b[39m, nbdevup\u001b[38;5;241m=\u001b[39m\u001b[38;5;241m2\u001b[39m, nbdevdn\u001b[38;5;241m=\u001b[39m\u001b[38;5;241m2\u001b[39m, matype\u001b[38;5;241m=\u001b[39m\u001b[38;5;241m0\u001b[39m\n\u001b[0;32m      4\u001b[0m )\n",
      "\u001b[1;31mNameError\u001b[0m: name 'talib' is not defined"
     ]
    }
   ],
   "source": [
    "# Calculate Bollinger Bands\n",
    "df_stock['upper_band'], df_stock['middle_band'], df_stock['lower_band'] = talib.BBANDS(\n",
    "    df_stock['Close'], timeperiod=20, nbdevup=2, nbdevdn=2, matype=0\n",
    ")"
   ]
  },
  {
   "cell_type": "code",
   "execution_count": 24,
   "id": "37c9e61f",
   "metadata": {},
   "outputs": [
    {
     "ename": "NameError",
     "evalue": "name 'pn' is not defined",
     "output_type": "error",
     "traceback": [
      "\u001b[1;31m---------------------------------------------------------------------------\u001b[0m",
      "\u001b[1;31mNameError\u001b[0m                                 Traceback (most recent call last)",
      "Cell \u001b[1;32mIn[24], line 3\u001b[0m\n\u001b[0;32m      1\u001b[0m \u001b[38;5;66;03m# Load stock data using PyNance\u001b[39;00m\n\u001b[0;32m      2\u001b[0m ticker \u001b[38;5;241m=\u001b[39m \u001b[38;5;124m'\u001b[39m\u001b[38;5;124mAAPL\u001b[39m\u001b[38;5;124m'\u001b[39m\n\u001b[1;32m----> 3\u001b[0m stock \u001b[38;5;241m=\u001b[39m pn\u001b[38;5;241m.\u001b[39mdata\u001b[38;5;241m.\u001b[39mget(ticker, start\u001b[38;5;241m=\u001b[39m\u001b[38;5;124m'\u001b[39m\u001b[38;5;124m2020-01-01\u001b[39m\u001b[38;5;124m'\u001b[39m, end\u001b[38;5;241m=\u001b[39m\u001b[38;5;124m'\u001b[39m\u001b[38;5;124m2024-01-01\u001b[39m\u001b[38;5;124m'\u001b[39m)\n\u001b[0;32m      5\u001b[0m \u001b[38;5;66;03m# Calculate daily returns\u001b[39;00m\n\u001b[0;32m      6\u001b[0m stock[\u001b[38;5;124m'\u001b[39m\u001b[38;5;124mdaily_return\u001b[39m\u001b[38;5;124m'\u001b[39m] \u001b[38;5;241m=\u001b[39m stock[\u001b[38;5;124m'\u001b[39m\u001b[38;5;124mClose\u001b[39m\u001b[38;5;124m'\u001b[39m]\u001b[38;5;241m.\u001b[39mpct_change()\n",
      "\u001b[1;31mNameError\u001b[0m: name 'pn' is not defined"
     ]
    }
   ],
   "source": [
    "# Load stock data using PyNance\n",
    "ticker = 'AAPL'\n",
    "stock = pn.data.get(ticker, start='2020-01-01', end='2024-01-01')\n",
    "\n",
    "# Calculate daily returns\n",
    "stock['daily_return'] = stock['Close'].pct_change()\n",
    "\n",
    "# Calculate cumulative returns\n",
    "stock['cumulative_return'] = (1 + stock['daily_return']).cumprod()\n",
    "\n",
    "# Print financial metrics\n",
    "print(stock.head())"
   ]
  },
  {
   "cell_type": "code",
   "execution_count": 25,
   "id": "d9d02344",
   "metadata": {},
   "outputs": [
    {
     "ename": "NameError",
     "evalue": "name 'plt' is not defined",
     "output_type": "error",
     "traceback": [
      "\u001b[1;31m---------------------------------------------------------------------------\u001b[0m",
      "\u001b[1;31mNameError\u001b[0m                                 Traceback (most recent call last)",
      "Cell \u001b[1;32mIn[25], line 1\u001b[0m\n\u001b[1;32m----> 1\u001b[0m plt\u001b[38;5;241m.\u001b[39mfigure(figsize\u001b[38;5;241m=\u001b[39m(\u001b[38;5;241m14\u001b[39m, \u001b[38;5;241m7\u001b[39m))\n\u001b[0;32m      2\u001b[0m plt\u001b[38;5;241m.\u001b[39mplot(df_stock\u001b[38;5;241m.\u001b[39mindex, df_stock[\u001b[38;5;124m'\u001b[39m\u001b[38;5;124mClose\u001b[39m\u001b[38;5;124m'\u001b[39m], label\u001b[38;5;241m=\u001b[39m\u001b[38;5;124m'\u001b[39m\u001b[38;5;124mClose Price\u001b[39m\u001b[38;5;124m'\u001b[39m, color\u001b[38;5;241m=\u001b[39m\u001b[38;5;124m'\u001b[39m\u001b[38;5;124mblue\u001b[39m\u001b[38;5;124m'\u001b[39m)\n\u001b[0;32m      3\u001b[0m plt\u001b[38;5;241m.\u001b[39mplot(df_stock\u001b[38;5;241m.\u001b[39mindex, df_stock[\u001b[38;5;124m'\u001b[39m\u001b[38;5;124mSMA_10\u001b[39m\u001b[38;5;124m'\u001b[39m], label\u001b[38;5;241m=\u001b[39m\u001b[38;5;124m'\u001b[39m\u001b[38;5;124m10-day SMA\u001b[39m\u001b[38;5;124m'\u001b[39m, color\u001b[38;5;241m=\u001b[39m\u001b[38;5;124m'\u001b[39m\u001b[38;5;124morange\u001b[39m\u001b[38;5;124m'\u001b[39m)\n",
      "\u001b[1;31mNameError\u001b[0m: name 'plt' is not defined"
     ]
    }
   ],
   "source": [
    "plt.figure(figsize=(14, 7))\n",
    "plt.plot(df_stock.index, df_stock['Close'], label='Close Price', color='blue')\n",
    "plt.plot(df_stock.index, df_stock['SMA_10'], label='10-day SMA', color='orange')\n",
    "plt.plot(df_stock.index, df_stock['SMA_50'], label='50-day SMA', color='red')\n",
    "plt.title('Stock Price with SMA Indicators')\n",
    "plt.legend()\n",
    "plt.show()"
   ]
  },
  {
   "cell_type": "code",
   "execution_count": 26,
   "id": "d9b33a93",
   "metadata": {},
   "outputs": [
    {
     "ename": "NameError",
     "evalue": "name 'plt' is not defined",
     "output_type": "error",
     "traceback": [
      "\u001b[1;31m---------------------------------------------------------------------------\u001b[0m",
      "\u001b[1;31mNameError\u001b[0m                                 Traceback (most recent call last)",
      "Cell \u001b[1;32mIn[26], line 1\u001b[0m\n\u001b[1;32m----> 1\u001b[0m plt\u001b[38;5;241m.\u001b[39mfigure(figsize\u001b[38;5;241m=\u001b[39m(\u001b[38;5;241m14\u001b[39m, \u001b[38;5;241m5\u001b[39m))\n\u001b[0;32m      2\u001b[0m plt\u001b[38;5;241m.\u001b[39mplot(df_stock\u001b[38;5;241m.\u001b[39mindex, df_stock[\u001b[38;5;124m'\u001b[39m\u001b[38;5;124mRSI\u001b[39m\u001b[38;5;124m'\u001b[39m], label\u001b[38;5;241m=\u001b[39m\u001b[38;5;124m'\u001b[39m\u001b[38;5;124mRSI\u001b[39m\u001b[38;5;124m'\u001b[39m, color\u001b[38;5;241m=\u001b[39m\u001b[38;5;124m'\u001b[39m\u001b[38;5;124mpurple\u001b[39m\u001b[38;5;124m'\u001b[39m)\n\u001b[0;32m      3\u001b[0m plt\u001b[38;5;241m.\u001b[39maxhline(\u001b[38;5;241m70\u001b[39m, linestyle\u001b[38;5;241m=\u001b[39m\u001b[38;5;124m'\u001b[39m\u001b[38;5;124m--\u001b[39m\u001b[38;5;124m'\u001b[39m, color\u001b[38;5;241m=\u001b[39m\u001b[38;5;124m'\u001b[39m\u001b[38;5;124mred\u001b[39m\u001b[38;5;124m'\u001b[39m, label\u001b[38;5;241m=\u001b[39m\u001b[38;5;124m'\u001b[39m\u001b[38;5;124mOverbought (70)\u001b[39m\u001b[38;5;124m'\u001b[39m)\n",
      "\u001b[1;31mNameError\u001b[0m: name 'plt' is not defined"
     ]
    }
   ],
   "source": [
    "plt.figure(figsize=(14, 5))\n",
    "plt.plot(df_stock.index, df_stock['RSI'], label='RSI', color='purple')\n",
    "plt.axhline(70, linestyle='--', color='red', label='Overbought (70)')\n",
    "plt.axhline(30, linestyle='--', color='green', label='Oversold (30)')\n",
    "plt.title('Relative Strength Index (RSI)')\n",
    "plt.legend()\n",
    "plt.show()"
   ]
  },
  {
   "cell_type": "code",
   "execution_count": 27,
   "id": "dc231a3e",
   "metadata": {},
   "outputs": [
    {
     "ename": "NameError",
     "evalue": "name 'plt' is not defined",
     "output_type": "error",
     "traceback": [
      "\u001b[1;31m---------------------------------------------------------------------------\u001b[0m",
      "\u001b[1;31mNameError\u001b[0m                                 Traceback (most recent call last)",
      "Cell \u001b[1;32mIn[27], line 1\u001b[0m\n\u001b[1;32m----> 1\u001b[0m plt\u001b[38;5;241m.\u001b[39mfigure(figsize\u001b[38;5;241m=\u001b[39m(\u001b[38;5;241m14\u001b[39m, \u001b[38;5;241m7\u001b[39m))\n\u001b[0;32m      2\u001b[0m plt\u001b[38;5;241m.\u001b[39mplot(df_stock\u001b[38;5;241m.\u001b[39mindex, df_stock[\u001b[38;5;124m'\u001b[39m\u001b[38;5;124mMACD\u001b[39m\u001b[38;5;124m'\u001b[39m], label\u001b[38;5;241m=\u001b[39m\u001b[38;5;124m'\u001b[39m\u001b[38;5;124mMACD\u001b[39m\u001b[38;5;124m'\u001b[39m, color\u001b[38;5;241m=\u001b[39m\u001b[38;5;124m'\u001b[39m\u001b[38;5;124mblue\u001b[39m\u001b[38;5;124m'\u001b[39m)\n\u001b[0;32m      3\u001b[0m plt\u001b[38;5;241m.\u001b[39mplot(df_stock\u001b[38;5;241m.\u001b[39mindex, df_stock[\u001b[38;5;124m'\u001b[39m\u001b[38;5;124mMACD_signal\u001b[39m\u001b[38;5;124m'\u001b[39m], label\u001b[38;5;241m=\u001b[39m\u001b[38;5;124m'\u001b[39m\u001b[38;5;124mMACD Signal\u001b[39m\u001b[38;5;124m'\u001b[39m, color\u001b[38;5;241m=\u001b[39m\u001b[38;5;124m'\u001b[39m\u001b[38;5;124morange\u001b[39m\u001b[38;5;124m'\u001b[39m)\n",
      "\u001b[1;31mNameError\u001b[0m: name 'plt' is not defined"
     ]
    }
   ],
   "source": [
    "plt.figure(figsize=(14, 7))\n",
    "plt.plot(df_stock.index, df_stock['MACD'], label='MACD', color='blue')\n",
    "plt.plot(df_stock.index, df_stock['MACD_signal'], label='MACD Signal', color='orange')\n",
    "plt.title('MACD and Signal Line')\n",
    "plt.legend()\n",
    "plt.show()"
   ]
  },
  {
   "cell_type": "code",
   "execution_count": 28,
   "id": "1f4d28f3",
   "metadata": {},
   "outputs": [
    {
     "ename": "NameError",
     "evalue": "name 'plt' is not defined",
     "output_type": "error",
     "traceback": [
      "\u001b[1;31m---------------------------------------------------------------------------\u001b[0m",
      "\u001b[1;31mNameError\u001b[0m                                 Traceback (most recent call last)",
      "Cell \u001b[1;32mIn[28], line 1\u001b[0m\n\u001b[1;32m----> 1\u001b[0m plt\u001b[38;5;241m.\u001b[39mfigure(figsize\u001b[38;5;241m=\u001b[39m(\u001b[38;5;241m14\u001b[39m, \u001b[38;5;241m7\u001b[39m))\n\u001b[0;32m      2\u001b[0m plt\u001b[38;5;241m.\u001b[39mplot(df_stock\u001b[38;5;241m.\u001b[39mindex, df_stock[\u001b[38;5;124m'\u001b[39m\u001b[38;5;124mClose\u001b[39m\u001b[38;5;124m'\u001b[39m], label\u001b[38;5;241m=\u001b[39m\u001b[38;5;124m'\u001b[39m\u001b[38;5;124mClose Price\u001b[39m\u001b[38;5;124m'\u001b[39m, color\u001b[38;5;241m=\u001b[39m\u001b[38;5;124m'\u001b[39m\u001b[38;5;124mblue\u001b[39m\u001b[38;5;124m'\u001b[39m)\n\u001b[0;32m      3\u001b[0m plt\u001b[38;5;241m.\u001b[39mplot(df_stock\u001b[38;5;241m.\u001b[39mindex, df_stock[\u001b[38;5;124m'\u001b[39m\u001b[38;5;124mupper_band\u001b[39m\u001b[38;5;124m'\u001b[39m], label\u001b[38;5;241m=\u001b[39m\u001b[38;5;124m'\u001b[39m\u001b[38;5;124mUpper Band\u001b[39m\u001b[38;5;124m'\u001b[39m, color\u001b[38;5;241m=\u001b[39m\u001b[38;5;124m'\u001b[39m\u001b[38;5;124mred\u001b[39m\u001b[38;5;124m'\u001b[39m)\n",
      "\u001b[1;31mNameError\u001b[0m: name 'plt' is not defined"
     ]
    }
   ],
   "source": [
    "plt.figure(figsize=(14, 7))\n",
    "plt.plot(df_stock.index, df_stock['Close'], label='Close Price', color='blue')\n",
    "plt.plot(df_stock.index, df_stock['upper_band'], label='Upper Band', color='red')\n",
    "plt.plot(df_stock.index, df_stock['middle_band'], label='Middle Band', color='orange')\n",
    "plt.plot(df_stock.index, df_stock['lower_band'], label='Lower Band', color='green')\n",
    "plt.title('Bollinger Bands')\n",
    "plt.legend()\n",
    "plt.show()"
   ]
  },
  {
   "cell_type": "code",
   "execution_count": 30,
   "id": "261a467a",
   "metadata": {},
   "outputs": [],
   "source": [
    "df_stock.to_csv('../data/processed/processed_stock_data_AAPL.csv')"
   ]
  },
  {
   "cell_type": "code",
   "execution_count": null,
   "id": "48e8fa58",
   "metadata": {},
   "outputs": [],
   "source": []
  }
 ],
 "metadata": {
  "kernelspec": {
   "display_name": "Python 3 (ipykernel)",
   "language": "python",
   "name": "python3"
  },
  "language_info": {
   "codemirror_mode": {
    "name": "ipython",
    "version": 3
   },
   "file_extension": ".py",
   "mimetype": "text/x-python",
   "name": "python",
   "nbconvert_exporter": "python",
   "pygments_lexer": "ipython3",
   "version": "3.11.5"
  }
 },
 "nbformat": 4,
 "nbformat_minor": 5
}
